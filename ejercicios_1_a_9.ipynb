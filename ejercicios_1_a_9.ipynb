{
 "cells": [
  {
   "cell_type": "markdown",
   "metadata": {},
   "source": [
    "# Ejercicio 1\n",
    "Toma el texto del README.dm de numpy en una variable "
   ]
  },
  {
   "cell_type": "code",
   "execution_count": null,
   "metadata": {},
   "outputs": [],
   "source": [
    "text = \"\"\"The NumPy project welcomes your expertise and enthusiasm!\n",
    "\n",
    "Small improvements or fixes are always appreciated. If you are considering larger contributions\n",
    "to the source code, please contact us through the [mailing\n",
    "list](https://mail.python.org/mailman/listinfo/numpy-discussion) first.\n",
    "\n",
    "Writing code isn’t the only way to contribute to NumPy. You can also:\n",
    "- review pull requests\n",
    "- help us stay on top of new and old issues\n",
    "- develop tutorials, presentations, and other educational materials\n",
    "- maintain and improve [our website](https://github.com/numpy/numpy.org)\n",
    "- develop graphic design for our brand assets and promotional materials\n",
    "- translate website content\n",
    "- help with outreach and onboard new contributors\n",
    "- write grant proposals and help with other fundraising efforts\n",
    "\n",
    "For more information about the ways you can contribute to NumPy, visit [our website](https://numpy.org/contribute/). \n",
    "If you’re unsure where to start or how your skills fit in, reach out! You can\n",
    "ask on the mailing list or here, on GitHub, by opening a new issue or leaving a\n",
    "comment on a relevant issue that is already open.\n",
    "\n",
    "Our preferred channels of communication are all public, but if you’d like to\n",
    "speak to us in private first, contact our community coordinators at\n",
    "numpy-team@googlegroups.com or on Slack (write numpy-team@googlegroups.com for\n",
    "an invitation).\n",
    "\n",
    "We also have a biweekly community call, details of which are announced on the\n",
    "mailing list. You are very welcome to join.\n",
    "\n",
    "If you are new to contributing to open source, [this\n",
    "guide](https://opensource.guide/how-to-contribute/) helps explain why, what,\n",
    "and how to successfully get involved.\"\"\""
   ]
  },
  {
   "cell_type": "markdown",
   "metadata": {},
   "source": [
    "imprime todas las líneas cuya segunda palabra comience con una vocal (A, E, I, O, U, a, e, i, o, u)"
   ]
  },
  {
   "cell_type": "code",
   "execution_count": null,
   "metadata": {},
   "outputs": [],
   "source": [
    "lines = text.splitlines()\n",
    "vowels = [\"a\", \"e\", \"i\", \"o\", \"u\"]\n",
    "for line in lines:\n",
    "    words = line.split(\" \")\n",
    "    if len(words) > 2:\n",
    "        pos = 2 if words[0] == \"-\" else 1\n",
    "        if words[pos][0].lower() in vowels:\n",
    "            print(line)"
   ]
  },
  {
   "cell_type": "markdown",
   "metadata": {},
   "source": [
    "# Ejercicio 2\n",
    "\n",
    "Indique la palabra con más de 4 caracteres que aparece mayor cantidad de veces en\n",
    "el texto del README.md de numpy. Copie y pegue el texto en una variable.\n",
    "Recordemos algunas funciones de string:\n",
    "Investigue el módulo Counter para simplificar la resolución."
   ]
  },
  {
   "cell_type": "code",
   "execution_count": null,
   "metadata": {},
   "outputs": [],
   "source": [
    "from collections import Counter\n",
    "\n",
    "diccionario = Counter(text.split())\n",
    "max = -1\n",
    "for clave, apariciones in diccionario.items():\n",
    "    if len(clave) == 4 and max < apariciones:\n",
    "        max = apariciones\n",
    "        palabra = clave\n",
    "print(palabra)"
   ]
  },
  {
   "cell_type": "markdown",
   "metadata": {},
   "source": [
    "# Ejercicio 3\n",
    "\n",
    "Dado el texto guardado en la varible jupyter_info, solicite por teclado una\n",
    "letra e imprima las palabras que contengan dicha letra. En caso que no se haya\n",
    "ingresado un letra, indique el error. Ver: módulo string"
   ]
  },
  {
   "cell_type": "code",
   "execution_count": 6,
   "metadata": {},
   "outputs": [],
   "source": [
    "jupyter_info = \"\"\" JupyterLab is a web-based interactive development \n",
    "environment for Jupyter notebooks, code, and data. JupyterLab is \n",
    "flexible: configure and arrange the user interface to support a wide \n",
    "range of workflows in data science, scientific computing, and machine \n",
    "learning. JupyterLab is extensible and modular: write plugins that add\n",
    "new components and integrate with existing ones. \"\"\""
   ]
  },
  {
   "cell_type": "code",
   "execution_count": null,
   "metadata": {},
   "outputs": [],
   "source": [
    "import string\n",
    "\n",
    "letters = string.ascii_letters\n",
    "text = jupyter_info.split(\" \")\n",
    "letter = input()\n",
    "if letter in letters:\n",
    "    for word in text:\n",
    "        if letter in word:\n",
    "            print(word)\n",
    "else:\n",
    "    print(\"error\")"
   ]
  },
  {
   "cell_type": "markdown",
   "metadata": {},
   "source": [
    "# Ejercicio 4\n",
    "\n",
    "Dado el siguiente código que informa si la letra a se encuentra en una palabra\n",
    "ingresada por teclado:"
   ]
  },
  {
   "cell_type": "code",
   "execution_count": 1,
   "metadata": {},
   "outputs": [],
   "source": [
    "word = input(\"Ingresá una palabra: \")\n",
    "if \"a\" in word:\n",
    "    print(\"Hay al menos una letra a.\")\n",
    "else:\n",
    "    print(\"No hay letras a. \")"
   ]
  },
  {
   "cell_type": "markdown",
   "metadata": {},
   "source": [
    "Si ahora queremos saber si contiene la letra a y también la letra n, ¿cómo lo\n",
    "modificamos?"
   ]
  },
  {
   "cell_type": "code",
   "execution_count": null,
   "metadata": {},
   "outputs": [],
   "source": [
    "word = input(\"Ingresá una palabra: \")\n",
    "if \"a\" in word and \"n\" in word:\n",
    "    print(\"Hay al menos una letra a y una n.\")\n",
    "else:\n",
    "    print(\"No hay letras a o no hay letra n. \")"
   ]
  },
  {
   "cell_type": "markdown",
   "metadata": {},
   "source": [
    "# Ejercicio 5\n",
    "\n",
    "Para la aceptación de un artículo en un congreso se definen las siguientes\n",
    "especificaciones que deben cumplir y recomendaciones de escritura:\n",
    "- título:\n",
    "    * 10 palabras como máximo\n",
    "- cada oración del resumen:\n",
    "    * hasta 12 palabras: fácil de leer\n",
    "    * entre 13-17 palabras: aceptable para leer\n",
    "    * entre 18-25 palabras: difícil de leer\n",
    "    * mas de 25 palabras: muy difícil\n",
    "    \n",
    "Es importante destacar que los números no se consideran palabras al momento del\n",
    "análisis por su facilidad de lectura.\n",
    "\n",
    "Dado un artículo en formato string, defina si cumple las especificaciones del título y\n",
    "cuántas oraciones tiene de cada categoría. El formato estándar en que recibe el string\n",
    "tiene la siguiente forma y En este ejemplo se debe informar:\n",
    "- título: not ok\n",
    "- Cantidad de oraciones fáciles de leer: 1, aceptables para leer: 2, dificil de leer: 1,\n",
    "muy difícil de leer: 2"
   ]
  },
  {
   "cell_type": "code",
   "execution_count": 60,
   "metadata": {},
   "outputs": [],
   "source": [
    "article = \"\"\" título: Experiences in Developing a Distributed Agent-\n",
    "based Modeling Toolkit with Python Version 3\n",
    "resumen: Distributed agent-based modeling (ABM) on high-performance \n",
    "computing resources provides the promise of capturing unprecedented \n",
    "details of large-scale complex systems. However, the specialized \n",
    "knowledge required for developing such ABMs creates barriers to wider \n",
    "adoption and utilization. Here we present our experiences in \n",
    "developing an initial implementation of Repast4Py, a Python-based \n",
    "distributed ABM toolkit. We build on our experiences in developing ABM\n",
    "toolkits, including Repast for High Performance Computing (Repast \n",
    "HPC), to identify the key elements of a useful distributed ABM \n",
    "toolkit. We leverage the Numba, NumPy, and PyTorch packages and the\n",
    "Python C-API to create a scalable modeling system that can exploit the\n",
    "largest HPC resources and emerging computing architectures. \"\"\""
   ]
  },
  {
   "cell_type": "code",
   "execution_count": 55,
   "metadata": {},
   "outputs": [],
   "source": [
    "def counter(sentence):\n",
    "    count = 0\n",
    "    for word in sentence:\n",
    "        if not word.isdigit():\n",
    "            count += 1\n",
    "    return count"
   ]
  },
  {
   "cell_type": "code",
   "execution_count": null,
   "metadata": {},
   "outputs": [],
   "source": [
    "from collections import Counter\n",
    "\n",
    "title, summary = article.split(\"resumen:\")\n",
    "\n",
    "# TITULO\n",
    "title = title.split()[1:]\n",
    "count = counter(title)\n",
    "validate_title = \"ok\" if count <= 10 else \"not ok\"\n",
    "print(validate_title)\n",
    "\n",
    "# RESUMEN\n",
    "summary = summary.split(\".\")[:-1]\n",
    "types_sentences = []\n",
    "for sentence in summary:\n",
    "    sentence = sentence.split()\n",
    "    count = counter(sentence)\n",
    "    if count <= 12:\n",
    "        types_sentences.append(\"fáciles de leer\")\n",
    "    elif count <= 17:\n",
    "        types_sentences.append(\"aceptables para leer\")\n",
    "    elif count <= 25:\n",
    "        types_sentences.append(\"dificil de leer\") \n",
    "    else:\n",
    "        types_sentences.append(\"muy dificil de leer\")\n",
    "print(Counter(types_sentences))"
   ]
  },
  {
   "cell_type": "markdown",
   "metadata": {},
   "source": [
    "# Ejercicio 6\n",
    "\n",
    "Dada una frase y un string ingresados por teclado (en ese orden), genere una lista de\n",
    "palabras, y sobre ella, informe la cantidad de palabras en las que se encuentra el\n",
    "string. No distingir entre mayúsculas y minúsculas\n",
    "- Ejemplo 1\n",
    "    * Para la frase: \"Tres tristes tigres, tragaban trigo en un trigal, en tres tristes\n",
    "trastos, tragaban trigo tres tristes tigres.\"\n",
    "    * Palabra: \"tres\"\n",
    "    * Resultado: 3\n",
    "- Ejemplo 2\n",
    "    * Para la frase: \"Tres tristes tigres, tragaban trigo en un trigal, en tres tristes\n",
    "trastos, tragaban trigo tres tristes tigres.\"\n",
    "    * Palabra: \"tigres\"\n",
    "    * Resultado: 2\n",
    "Ejemplo 3\n",
    "- Para la frase: \"Tres tristes tigres, tragaban trigo en un trigal, en tres tristes\n",
    "trastos, tragaban trigo tres tristes tigres.\"\n",
    "    * Palabra: \"TRISTES\"\n",
    "    * Resultado: 3"
   ]
  },
  {
   "cell_type": "code",
   "execution_count": null,
   "metadata": {},
   "outputs": [],
   "source": [
    "phrase = input(\"Ingrese una frase: \")\n",
    "string = input(\"Ingrese un string: \")\n",
    "# phrase = \"Tres tristes tigres, tragaban trigo en un trigal, en tres tristes trastos, tragaban trigo tres tristes tigres.\"\n",
    "# string = \"TRISTES\"\n",
    "phrase = phrase.split()\n",
    "count = 0\n",
    "for word in phrase:\n",
    "    if string.lower() in word.lower():\n",
    "        count +=1\n",
    "print(count)"
   ]
  },
  {
   "cell_type": "markdown",
   "metadata": {},
   "source": [
    "# Ejercicio 7\n",
    "\n",
    "Dada una frase contar mayúsculas, minúsculas, caracteres no letras y la cantidad de\n",
    "palabras sin distinguir entre mayúsculas y minúsculas."
   ]
  },
  {
   "cell_type": "code",
   "execution_count": 1,
   "metadata": {},
   "outputs": [],
   "source": [
    "text = \"\"\" La brecha salarial alcanzó el 27,7%: las mujeres ocupadas \n",
    "debieron trabajar 8 días y 10 horas más que los varones ocupados para \n",
    "ganar lo mismo que ellos en un mes. \"\"\""
   ]
  },
  {
   "cell_type": "markdown",
   "metadata": {},
   "source": [
    "# Ejercicio 8\n",
    "\n",
    "Escriba un programa que solicite que se ingrese una palabra o frase y permita\n",
    "identificar si la misma es un Heterograma\n",
    "\n",
    "**Tener en cuenta**\n",
    "\n",
    "- Lo que no se puede repetir en la frase son sólo aquellos caracteres que sean\n",
    "letras.\n",
    "- No se distingue entre mayúsculas y minúsculas, es decir si en la frase o palabra\n",
    "tenemos la letra \"T\" y la letra \"t\" la misma NO será un Hererograma.\n",
    "- Para simplificar el ejercicio vamos a tomar como que las letras con tilde y sin tilde\n",
    "son distintas. Ya que Python las diferencia\n",
    "\n",
    "**Ejemplos**\n",
    "| Entreda | ¿Heterograma? |\n",
    "|---------|---------------|\n",
    "|cruzamiento | Sí |\n",
    "|centrifugados |Sí |\n",
    "|portón |Sí |\n",
    "|casa |No |\n",
    "|día de sol | No |\n",
    "|con diez uñas| Sí |\n",
    "|no-se-duplica |Sí |"
   ]
  },
  {
   "cell_type": "code",
   "execution_count": 24,
   "metadata": {},
   "outputs": [
    {
     "name": "stdout",
     "output_type": "stream",
     "text": [
      "Sí\n"
     ]
    }
   ],
   "source": [
    "string = input(\"Ingrese una palabra o una frase: \")\n",
    "aux = []\n",
    "es_heterograma = True\n",
    "for char in string:\n",
    "    if char.lower().isalpha():\n",
    "        if char not in aux:\n",
    "            aux.append(char)\n",
    "        else:\n",
    "            es_heterograma = False\n",
    "            break\n",
    "print(\"Sí\" if es_heterograma else \"No\")"
   ]
  },
  {
   "cell_type": "markdown",
   "metadata": {},
   "source": [
    "Escriba un programa que solicite por teclado una palabra y calcule el valor de la misma\n",
    "dada la siguiente tabla de valores del juego Scrabble:\n",
    "Letra valor\n",
    "A, E, I, O, U, L, N, R, S, T 1\n",
    "D, G 2\n",
    "B, C, M, P 3\n",
    "F, H, V, W, Y 4\n",
    "K 5\n",
    "J, X 8\n",
    "Q, Z 10\n",
    "*Tenga en cuenta qué estructura elige para guardar estos valores en Python\n",
    "Ejemplo 1\n",
    "Palabra: \"solo\"\n",
    "valor: 4\n",
    "Ejemplo 2\n",
    "Palabra: \"tomate\"\n",
    "valor: 8"
   ]
  },
  {
   "cell_type": "code",
   "execution_count": null,
   "metadata": {},
   "outputs": [],
   "source": [
    "string = input(\"Ingrese una palabra: \")\n",
    "valores = {\n",
    "    \"un_punto\": (\"A\", \"E\", \"I\", \"O\", \"U\", \"L\", \"N\", \"R\", \"S\", \"T\"),\n",
    "    \"dos_puntos\": (\"D\", \"G\"),\n",
    "    \"tres_puntos\": (\"B\", \"C\", \"M\", \"P\"),\n",
    "    \"cuatro_puntos\": (\"F\", \"H\", \"V\", \"W\", \"Y\"),  \n",
    "    \"cinco_puntos\": (\"K\"),\n",
    "    \"ocho_puntos\": (\"J\", \"X\"),\n",
    "    \"diez_puntos\": (\"Q\", \"Z\")\n",
    "}"
   ]
  }
 ],
 "metadata": {
  "kernelspec": {
   "display_name": "Python 3",
   "language": "python",
   "name": "python3"
  },
  "language_info": {
   "codemirror_mode": {
    "name": "ipython",
    "version": 3
   },
   "file_extension": ".py",
   "mimetype": "text/x-python",
   "name": "python",
   "nbconvert_exporter": "python",
   "pygments_lexer": "ipython3",
   "version": "3.11.2"
  }
 },
 "nbformat": 4,
 "nbformat_minor": 2
}
